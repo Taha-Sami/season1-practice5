{
  "nbformat": 4,
  "nbformat_minor": 0,
  "metadata": {
    "colab": {
      "provenance": [],
      "authorship_tag": "ABX9TyOwnFQ8IrpX2a+sne7Z6rfb",
      "include_colab_link": true
    },
    "kernelspec": {
      "name": "python3",
      "display_name": "Python 3"
    },
    "language_info": {
      "name": "python"
    }
  },
  "cells": [
    {
      "cell_type": "markdown",
      "metadata": {
        "id": "view-in-github",
        "colab_type": "text"
      },
      "source": [
        "<a href=\"https://colab.research.google.com/github/Taha-Sami/season1-practice5/blob/main/practice5_season1.ipynb\" target=\"_parent\"><img src=\"https://colab.research.google.com/assets/colab-badge.svg\" alt=\"Open In Colab\"/></a>"
      ]
    },
    {
      "cell_type": "code",
      "execution_count": 2,
      "metadata": {
        "id": "_tugB5-I9c8u"
      },
      "outputs": [],
      "source": [
        "import numpy as np\n",
        "import pandas as pd"
      ]
    },
    {
      "cell_type": "code",
      "source": [
        "df=pd.read_csv(\"possum.csv\")"
      ],
      "metadata": {
        "id": "ZBdPCkxi9fvi"
      },
      "execution_count": 3,
      "outputs": []
    },
    {
      "cell_type": "code",
      "source": [
        "df_nans_filled=df.fillna(df.mean())"
      ],
      "metadata": {
        "colab": {
          "base_uri": "https://localhost:8080/"
        },
        "id": "IDGBCyGtAlPj",
        "outputId": "2372a9d9-00fb-476f-8ec1-536c0298cfd3"
      },
      "execution_count": 5,
      "outputs": [
        {
          "output_type": "stream",
          "name": "stderr",
          "text": [
            "<ipython-input-5-03878f72b251>:1: FutureWarning: The default value of numeric_only in DataFrame.mean is deprecated. In a future version, it will default to False. In addition, specifying 'numeric_only=None' is deprecated. Select only valid columns or specify the value of numeric_only to silence this warning.\n",
            "  df_nans_filled=df.fillna(df.mean())\n"
          ]
        }
      ]
    },
    {
      "cell_type": "code",
      "source": [
        "df_remove=df_nans_filled.drop(labels=[\"case\",\"site\",\"Pop\",\"sex\"],axis=1)\n",
        "df_x=df_remove.drop(labels=[\"age\"],axis=1)\n",
        "df_y=df_remove[[\"age\"]]"
      ],
      "metadata": {
        "id": "F7iXhvncP-UY"
      },
      "execution_count": 6,
      "outputs": []
    },
    {
      "cell_type": "code",
      "source": [
        "from sklearn.preprocessing import StandardScaler"
      ],
      "metadata": {
        "id": "6k6u6Th9R3Nq"
      },
      "execution_count": 7,
      "outputs": []
    },
    {
      "cell_type": "code",
      "source": [
        "scaler=StandardScaler()"
      ],
      "metadata": {
        "id": "ET1eBS_kSjJR"
      },
      "execution_count": 8,
      "outputs": []
    },
    {
      "cell_type": "code",
      "source": [
        "X_nrm=scaler.fit_transform(df_x)\n",
        "y=df_y.values"
      ],
      "metadata": {
        "id": "nw1cBnZ8TAGa"
      },
      "execution_count": 9,
      "outputs": []
    },
    {
      "cell_type": "code",
      "source": [
        "from sklearn.model_selection import train_test_split"
      ],
      "metadata": {
        "id": "bPxV4y-sZ5GX"
      },
      "execution_count": 10,
      "outputs": []
    },
    {
      "cell_type": "code",
      "source": [
        "x_train, x_val, y_train, y_val=train_test_split(X_nrm,y,test_size=0.2)"
      ],
      "metadata": {
        "id": "MAPog04kaCQs"
      },
      "execution_count": 11,
      "outputs": []
    },
    {
      "cell_type": "code",
      "source": [
        "from keras.models import Sequential\n",
        "from keras.layers import Dense"
      ],
      "metadata": {
        "id": "OZRtipRBsRif"
      },
      "execution_count": 12,
      "outputs": []
    },
    {
      "cell_type": "code",
      "source": [
        "model= Sequential()"
      ],
      "metadata": {
        "id": "0okDldwmsrnB"
      },
      "execution_count": 13,
      "outputs": []
    },
    {
      "cell_type": "code",
      "source": [
        "model.add(Dense(128,activation='LeakyReLU',input_shape=x_train.shape[1:]))\n",
        "model.add(Dense(32,activation='ReLU'))\n",
        "model.add(Dense(1,activation='linear'))\n",
        "model.compile(optimizer='adam',loss=\"mse\",metrics=\"acc\")\n",
        "result=model.fit(x_train,y_train,epochs=30, validation_data=(x_val,y_val),batch_size=32)"
      ],
      "metadata": {
        "colab": {
          "base_uri": "https://localhost:8080/"
        },
        "id": "Z2ojCScGszfq",
        "outputId": "90d755b3-649d-4578-a19f-2378dd48cfaf"
      },
      "execution_count": 97,
      "outputs": [
        {
          "output_type": "stream",
          "name": "stdout",
          "text": [
            "Epoch 1/30\n",
            "3/3 [==============================] - 9s 237ms/step - loss: 15.3730 - acc: 0.0120 - val_loss: 10.8181 - val_acc: 0.0952\n",
            "Epoch 2/30\n",
            "3/3 [==============================] - 0s 38ms/step - loss: 10.6163 - acc: 0.0964 - val_loss: 7.0509 - val_acc: 0.0952\n",
            "Epoch 3/30\n",
            "3/3 [==============================] - 0s 26ms/step - loss: 6.7652 - acc: 0.0964 - val_loss: 4.5401 - val_acc: 0.0952\n",
            "Epoch 4/30\n",
            "3/3 [==============================] - 0s 27ms/step - loss: 4.4597 - acc: 0.0964 - val_loss: 3.6645 - val_acc: 0.0952\n",
            "Epoch 5/30\n",
            "3/3 [==============================] - 0s 23ms/step - loss: 3.5010 - acc: 0.0964 - val_loss: 3.9340 - val_acc: 0.0952\n",
            "Epoch 6/30\n",
            "3/3 [==============================] - 0s 24ms/step - loss: 3.6782 - acc: 0.0964 - val_loss: 4.4909 - val_acc: 0.0952\n",
            "Epoch 7/30\n",
            "3/3 [==============================] - 0s 32ms/step - loss: 4.0600 - acc: 0.0964 - val_loss: 4.7015 - val_acc: 0.0952\n",
            "Epoch 8/30\n",
            "3/3 [==============================] - 0s 32ms/step - loss: 4.1431 - acc: 0.0964 - val_loss: 4.4854 - val_acc: 0.0952\n",
            "Epoch 9/30\n",
            "3/3 [==============================] - 0s 34ms/step - loss: 3.9013 - acc: 0.0964 - val_loss: 4.1122 - val_acc: 0.0952\n",
            "Epoch 10/30\n",
            "3/3 [==============================] - 0s 34ms/step - loss: 3.6408 - acc: 0.0964 - val_loss: 3.8005 - val_acc: 0.0952\n",
            "Epoch 11/30\n",
            "3/3 [==============================] - 0s 24ms/step - loss: 3.5328 - acc: 0.0964 - val_loss: 3.6670 - val_acc: 0.0952\n",
            "Epoch 12/30\n",
            "3/3 [==============================] - 0s 37ms/step - loss: 3.5247 - acc: 0.0964 - val_loss: 3.6518 - val_acc: 0.0952\n",
            "Epoch 13/30\n",
            "3/3 [==============================] - 0s 25ms/step - loss: 3.5741 - acc: 0.0964 - val_loss: 3.6591 - val_acc: 0.0952\n",
            "Epoch 14/30\n",
            "3/3 [==============================] - 0s 25ms/step - loss: 3.5923 - acc: 0.0964 - val_loss: 3.6554 - val_acc: 0.0952\n",
            "Epoch 15/30\n",
            "3/3 [==============================] - 0s 34ms/step - loss: 3.5673 - acc: 0.0964 - val_loss: 3.6509 - val_acc: 0.0952\n",
            "Epoch 16/30\n",
            "3/3 [==============================] - 0s 34ms/step - loss: 3.5501 - acc: 0.0964 - val_loss: 3.6697 - val_acc: 0.0952\n",
            "Epoch 17/30\n",
            "3/3 [==============================] - 0s 25ms/step - loss: 3.5279 - acc: 0.0964 - val_loss: 3.7095 - val_acc: 0.0952\n",
            "Epoch 18/30\n",
            "3/3 [==============================] - 0s 27ms/step - loss: 3.5090 - acc: 0.0964 - val_loss: 3.7314 - val_acc: 0.0952\n",
            "Epoch 19/30\n",
            "3/3 [==============================] - 0s 33ms/step - loss: 3.5129 - acc: 0.0964 - val_loss: 3.7532 - val_acc: 0.0952\n",
            "Epoch 20/30\n",
            "3/3 [==============================] - 0s 25ms/step - loss: 3.5273 - acc: 0.0964 - val_loss: 3.7587 - val_acc: 0.0952\n",
            "Epoch 21/30\n",
            "3/3 [==============================] - 0s 24ms/step - loss: 3.5273 - acc: 0.0964 - val_loss: 3.7256 - val_acc: 0.0952\n",
            "Epoch 22/30\n",
            "3/3 [==============================] - 0s 26ms/step - loss: 3.5105 - acc: 0.0964 - val_loss: 3.7075 - val_acc: 0.0952\n",
            "Epoch 23/30\n",
            "3/3 [==============================] - 0s 27ms/step - loss: 3.5036 - acc: 0.0964 - val_loss: 3.6956 - val_acc: 0.0952\n",
            "Epoch 24/30\n",
            "3/3 [==============================] - 0s 24ms/step - loss: 3.5083 - acc: 0.0964 - val_loss: 3.6849 - val_acc: 0.0952\n",
            "Epoch 25/30\n",
            "3/3 [==============================] - 0s 24ms/step - loss: 3.5045 - acc: 0.0964 - val_loss: 3.6903 - val_acc: 0.0952\n",
            "Epoch 26/30\n",
            "3/3 [==============================] - 0s 24ms/step - loss: 3.5043 - acc: 0.0964 - val_loss: 3.6941 - val_acc: 0.0952\n",
            "Epoch 27/30\n",
            "3/3 [==============================] - 0s 33ms/step - loss: 3.5102 - acc: 0.0964 - val_loss: 3.7004 - val_acc: 0.0952\n",
            "Epoch 28/30\n",
            "3/3 [==============================] - 0s 36ms/step - loss: 3.5153 - acc: 0.0964 - val_loss: 3.6834 - val_acc: 0.0952\n",
            "Epoch 29/30\n",
            "3/3 [==============================] - 0s 24ms/step - loss: 3.5048 - acc: 0.0964 - val_loss: 3.6891 - val_acc: 0.0952\n",
            "Epoch 30/30\n",
            "3/3 [==============================] - 0s 25ms/step - loss: 3.5063 - acc: 0.0964 - val_loss: 3.6939 - val_acc: 0.0952\n"
          ]
        }
      ]
    },
    {
      "cell_type": "code",
      "source": [
        "yhat_test=model.predict(x_val)"
      ],
      "metadata": {
        "colab": {
          "base_uri": "https://localhost:8080/"
        },
        "id": "ANbpUYsAziPi",
        "outputId": "67c4f1b5-bf94-4717-ae24-efd5dfcd7734"
      },
      "execution_count": 98,
      "outputs": [
        {
          "output_type": "stream",
          "name": "stdout",
          "text": [
            "1/1 [==============================] - 0s 349ms/step\n"
          ]
        }
      ]
    },
    {
      "cell_type": "code",
      "source": [
        "import matplotlib.pyplot as plt"
      ],
      "metadata": {
        "id": "14z5llRV098W"
      },
      "execution_count": 99,
      "outputs": []
    },
    {
      "cell_type": "code",
      "source": [
        "plt.scatter(y_val,yhat_test)"
      ],
      "metadata": {
        "colab": {
          "base_uri": "https://localhost:8080/",
          "height": 448
        },
        "id": "OgpJtEDu1ELG",
        "outputId": "0a7776cc-df51-4171-e12d-add4062b8709"
      },
      "execution_count": 100,
      "outputs": [
        {
          "output_type": "execute_result",
          "data": {
            "text/plain": [
              "<matplotlib.collections.PathCollection at 0x7f013904ba90>"
            ]
          },
          "metadata": {},
          "execution_count": 100
        },
        {
          "output_type": "display_data",
          "data": {
            "text/plain": [
              "<Figure size 640x480 with 1 Axes>"
            ],
            "image/png": "[encoded data removed]"
          },
          "metadata": {}
        }
      ]
    },
    {
      "cell_type": "code",
      "source": [
        "plt.plot(result.history[\"loss\"],label=\"loss\")\n",
        "plt.plot(result.history[\"val_loss\"],label=\"val_loss\")\n",
        "plt.legend()"
      ],
      "metadata": {
        "colab": {
          "base_uri": "https://localhost:8080/",
          "height": 448
        },
        "id": "8Cn-JXi81idy",
        "outputId": "249d8561-e62d-4c65-989c-1496324558d3"
      },
      "execution_count": 101,
      "outputs": [
        {
          "output_type": "execute_result",
          "data": {
            "text/plain": [
              "<matplotlib.legend.Legend at 0x7f0138ec7040>"
            ]
          },
          "metadata": {},
          "execution_count": 101
        },
        {
          "output_type": "display_data",
          "data": {
            "text/plain": [
              "<Figure size 640x480 with 1 Axes>"
            ],
            "image/png": "[encoded data removed]"
          },
          "metadata": {}
        }
      ]
    }
  ]
}